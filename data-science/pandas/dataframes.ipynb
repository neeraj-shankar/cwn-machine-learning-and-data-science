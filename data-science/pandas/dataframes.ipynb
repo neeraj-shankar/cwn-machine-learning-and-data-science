{
 "cells": [
  {
   "cell_type": "markdown",
   "id": "cec52025-2309-4799-a6ea-b34ff4d92fd6",
   "metadata": {},
   "source": [
    "## Dataframes Method from Pandas\n",
    "\n",
    "Exploring Data Frames Methods"
   ]
  },
  {
   "cell_type": "code",
   "execution_count": 1,
   "id": "1b235a1a-f0b3-406e-8e37-89fe8626b799",
   "metadata": {},
   "outputs": [],
   "source": [
    "import pandas as pd "
   ]
  },
  {
   "cell_type": "code",
   "execution_count": 2,
   "id": "165d8650-d1e1-4546-9284-5df6183b3f63",
   "metadata": {},
   "outputs": [],
   "source": [
    "df = pd.read_csv('car-sales.csv')"
   ]
  },
  {
   "cell_type": "code",
   "execution_count": 3,
   "id": "4f4e49e4-aa81-4246-b8b6-848f6a1c1b73",
   "metadata": {},
   "outputs": [
    {
     "name": "stdout",
     "output_type": "stream",
     "text": [
      "     Make Colour  Odometer (KM)  Doors      Price\n",
      "0  Toyota  White         150043      4  $4,000.00\n",
      "1   Honda    Red          87899      4  $5,000.00\n",
      "2  Toyota   Blue          32549      3  $7,000.00\n"
     ]
    }
   ],
   "source": [
    "## getting first n dataframes\n",
    "firstNdata = df.head(3)\n",
    "print(firstNdata)"
   ]
  },
  {
   "cell_type": "code",
   "execution_count": 4,
   "id": "75c75c91-6d81-492c-84b1-1624091abe6c",
   "metadata": {},
   "outputs": [
    {
     "name": "stdout",
     "output_type": "stream",
     "text": [
      "     Make Colour  Odometer (KM)  Doors      Price\n",
      "5  Toyota  Green          99213      4  $4,500.00\n",
      "6   Honda   Blue          45698      4  $7,500.00\n",
      "7   Honda   Blue          54738      4  $7,000.00\n",
      "8  Toyota  White          60000      4  $6,250.00\n",
      "9  Nissan  White          31600      4  $9,700.00\n"
     ]
    }
   ],
   "source": [
    "## Getting last n-dataframes\n",
    "lastNData = df.tail(5)\n",
    "print(lastNData)"
   ]
  },
  {
   "cell_type": "code",
   "execution_count": 5,
   "id": "a00d38f8-d4a5-47d2-8105-73dba072f7b8",
   "metadata": {},
   "outputs": [
    {
     "name": "stdout",
     "output_type": "stream",
     "text": [
      "(10, 5)\n"
     ]
    }
   ],
   "source": [
    "## Getting the dimension of the data frame\n",
    "\n",
    "dimension = df.shape\n",
    "print(dimension)"
   ]
  },
  {
   "cell_type": "code",
   "execution_count": 6,
   "id": "1b2fb129-0af1-489f-a13c-f772af5fa553",
   "metadata": {},
   "outputs": [
    {
     "name": "stdout",
     "output_type": "stream",
     "text": [
      "Number of rows: 10\n",
      "Number of columns: 5\n"
     ]
    }
   ],
   "source": [
    "## Accessing individual elements of shape\n",
    "\n",
    "rows = dimension[0]\n",
    "columns = dimension[1]\n",
    "print(f\"Number of rows: {rows}\")\n",
    "print(f\"Number of columns: {columns}\")"
   ]
  },
  {
   "cell_type": "markdown",
   "id": "028d33d4-303f-4c79-ac6f-f0686028865c",
   "metadata": {},
   "source": [
    "## Accessing and modifying dataframes data"
   ]
  },
  {
   "cell_type": "code",
   "execution_count": 7,
   "id": "671ae0ef-4190-4ea1-99ef-32f6ca15e1f4",
   "metadata": {},
   "outputs": [
    {
     "name": "stdout",
     "output_type": "stream",
     "text": [
      "First Row data: Make                Toyota\n",
      "Colour               White\n",
      "Odometer (KM)       150043\n",
      "Doors                    4\n",
      "Price            $4,000.00\n",
      "Name: 0, dtype: object\n"
     ]
    }
   ],
   "source": [
    "## Accesing single row by label\n",
    "\n",
    "first_row = df.loc[0]\n",
    "print(f\"First Row data: {first_row}\")"
   ]
  },
  {
   "cell_type": "code",
   "execution_count": 8,
   "id": "61a4cda6-ad77-49d8-b057-6b9aaffbfa0f",
   "metadata": {},
   "outputs": [
    {
     "name": "stdout",
     "output_type": "stream",
     "text": [
      "     Make Colour  Odometer (KM)  Doors      Price\n",
      "0  Toyota  White         150043      4  $4,000.00\n",
      "1   Honda    Red          87899      4  $5,000.00\n",
      "2  Toyota   Blue          32549      3  $7,000.00\n"
     ]
    }
   ],
   "source": [
    "## # Access multiple rows by label\n",
    "\n",
    "multiple_rows = df.loc[[0, 1, 2]]\n",
    "print(multiple_rows)"
   ]
  },
  {
   "cell_type": "code",
   "execution_count": 9,
   "id": "a06a9bbf-006c-459b-b9ea-9f78a937fc84",
   "metadata": {},
   "outputs": [
    {
     "name": "stdout",
     "output_type": "stream",
     "text": [
      "Toyota\n"
     ]
    }
   ],
   "source": [
    "## Access a single element by label\n",
    "single_row_element = df.loc[0, 'Make']\n",
    "print(single_row_element)"
   ]
  },
  {
   "cell_type": "code",
   "execution_count": 10,
   "id": "813fe403-aa54-4b9d-914a-163f803992d7",
   "metadata": {},
   "outputs": [
    {
     "name": "stdout",
     "output_type": "stream",
     "text": [
      "     Make       Price\n",
      "0  Toyota   $4,000.00\n",
      "1   Honda   $5,000.00\n",
      "2  Toyota   $7,000.00\n",
      "3     BMW  $22,000.00\n",
      "4  Nissan   $3,500.00\n",
      "5  Toyota   $4,500.00\n",
      "6   Honda   $7,500.00\n",
      "7   Honda   $7,000.00\n",
      "8  Toyota   $6,250.00\n",
      "9  Nissan   $9,700.00\n"
     ]
    }
   ],
   "source": [
    "## Access multiple columns by label\n",
    "\n",
    "multiple_columns_data = df.loc[:, [\"Make\", \"Price\"]]\n",
    "print(multiple_columns_data)"
   ]
  },
  {
   "cell_type": "code",
   "execution_count": null,
   "id": "5f9bba27-6540-4bf7-a575-7f7abaf2c414",
   "metadata": {},
   "outputs": [],
   "source": []
  }
 ],
 "metadata": {
  "kernelspec": {
   "display_name": "Python 3 (ipykernel)",
   "language": "python",
   "name": "python3"
  },
  "language_info": {
   "codemirror_mode": {
    "name": "ipython",
    "version": 3
   },
   "file_extension": ".py",
   "mimetype": "text/x-python",
   "name": "python",
   "nbconvert_exporter": "python",
   "pygments_lexer": "ipython3",
   "version": "3.12.0"
  }
 },
 "nbformat": 4,
 "nbformat_minor": 5
}
